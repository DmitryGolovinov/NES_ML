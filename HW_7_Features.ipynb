{
  "cells": [
    {
      "cell_type": "markdown",
      "metadata": {
        "id": "-mPPMmAjhW7C"
      },
      "source": [
        "# Домашняя работа 7. Работа с категориальными признаками. ##\n",
        "# Выполнил Дмитрий Головинов ##"
      ]
    },
    {
      "cell_type": "markdown",
      "metadata": {
        "id": "fHwTs0QkhW7F"
      },
      "source": [
        "### Оценивание и штрафы\n",
        "\n",
        "Максимальная оценка — 10 баллов.\n",
        "\n",
        "Не списывайте, иначе всем участникам обнулим :)"
      ]
    },
    {
      "cell_type": "markdown",
      "metadata": {
        "id": "RlcbNr2NhW7F"
      },
      "source": [
        "Для удобства проверки самостоятельно посчитайте свою максимальную оценку (исходя из набора решенных задач) и укажите ниже.\n",
        "\n",
        "**Оценка: 10**"
      ]
    },
    {
      "cell_type": "code",
      "execution_count": 40,
      "metadata": {
        "colab": {
          "base_uri": "https://localhost:8080/"
        },
        "id": "uTBHJLabhW7G",
        "outputId": "5cfee0c4-6586-4d70-c0d8-8e3d44c8923a"
      },
      "outputs": [
        {
          "name": "stdout",
          "output_type": "stream",
          "text": [
            "Всем удачи!👒\n"
          ]
        }
      ],
      "source": [
        "print('Всем удачи!👒')"
      ]
    },
    {
      "cell_type": "code",
      "execution_count": 41,
      "metadata": {
        "id": "xAlXAbRFhW7I"
      },
      "outputs": [],
      "source": [
        "from __future__ import annotations\n",
        "\n",
        "import numpy as np\n",
        "import pandas as pd\n",
        "import matplotlib.pyplot as plt\n",
        "%matplotlib inline\n",
        "\n",
        "pd.set_option('display.max_rows', 100)\n",
        "pd.set_option('display.max_columns', 100)"
      ]
    },
    {
      "cell_type": "code",
      "execution_count": 42,
      "metadata": {
        "id": "GHOaSVeuMVIv"
      },
      "outputs": [],
      "source": [
        "from sklearn.model_selection import train_test_split"
      ]
    },
    {
      "cell_type": "code",
      "execution_count": 43,
      "metadata": {
        "id": "0ZuY_fyfNVTU"
      },
      "outputs": [],
      "source": [
        "import warnings\n",
        "warnings.filterwarnings('ignore')"
      ]
    },
    {
      "cell_type": "code",
      "execution_count": 44,
      "metadata": {
        "id": "wE3wmAdgNb-O"
      },
      "outputs": [],
      "source": [
        "from sklearn.metrics import roc_auc_score\n",
        "from sklearn.metrics import auc\n",
        "from sklearn.metrics import precision_recall_curve\n",
        "\n",
        "from sklearn.linear_model import LogisticRegression\n",
        "logreg = LogisticRegression()"
      ]
    },
    {
      "cell_type": "markdown",
      "metadata": {
        "id": "zMXu7UKxhW7P"
      },
      "source": [
        "## Работа с категориальными признаками (10 баллов)"
      ]
    },
    {
      "cell_type": "markdown",
      "metadata": {
        "id": "aqZYektDhW7P"
      },
      "source": [
        "Сейчас мы научимся обрабатывать категориальные переменные. Как вы уже знаете, закодировать их в виде столбика чисел недостаточно (это задаёт некоторый порядок, которого на категориальных переменных может и не быть, но модель попробует его выучить). Существует два основных способа обработки категориальных значений:\n",
        "- One-hot-кодирование\n",
        "- Счётчики (CTR, mean-target кодирование, ...) — каждый категориальный признак заменяется на среднее значение целевой переменной по всем объектам, имеющим одинаковое значение в этом признаке.\n",
        "\n",
        "Начнём с one-hot-кодирования. Допустим наш категориальный признак $f_j(x)$ принимает значения из множества $C=\\{c_1, \\dots, c_m\\}$. Заменим его на $m$ бинарных признаков $b_1(x), \\dots, b_m(x)$, каждый из которых является индикатором одного из возможных категориальных значений:\n",
        "$$\n",
        "b_i(x) = [f_j(x) = c_i]\n",
        "$$"
      ]
    },
    {
      "cell_type": "markdown",
      "metadata": {
        "id": "nSepFXWbhW7P"
      },
      "source": [
        "__Подготовка данных.__\n",
        "\n",
        "Загрузим данные [UCI Bank Marketing Dataset](https://archive.ics.uci.edu/ml/datasets/bank+marketing). Этот датасет содержит информацию о маркетинговой кампании какого-то банка, объектом в нем является телефонный звонок потенциальному клиенту с предложением некоторой услуги (утверждается, что это краткосрочный депозит), целевой переменной — ответ клиента (согласился ли он открыть депозит?). В качестве признакового описания используются характеристики клиента (образование, брак и т.д.), данные о звонке и различные экономические индикаторы — более подробная информация на страничке с датасетом."
      ]
    },
    {
      "cell_type": "code",
      "execution_count": 29,
      "metadata": {
        "colab": {
          "base_uri": "https://localhost:8080/"
        },
        "id": "UQhnsjfshW7Q",
        "outputId": "17f76408-4881-402a-890b-3dd4400b562b"
      },
      "outputs": [
        {
          "name": "stdout",
          "output_type": "stream",
          "text": [
            "--2023-12-01 19:16:23--  https://archive.ics.uci.edu/ml/machine-learning-databases/00222/bank-additional.zip\n",
            "Resolving archive.ics.uci.edu (archive.ics.uci.edu)... 128.195.10.252\n",
            "Connecting to archive.ics.uci.edu (archive.ics.uci.edu)|128.195.10.252|:443... connected.\n",
            "HTTP request sent, awaiting response... 200 OK\n",
            "Length: unspecified\n",
            "Saving to: ‘bank-additional.zip.1’\n",
            "\n",
            "bank-additional.zip     [  <=>               ] 434.15K  1.28MB/s    in 0.3s    \n",
            "\n",
            "2023-12-01 19:16:24 (1.28 MB/s) - ‘bank-additional.zip.1’ saved [444572]\n",
            "\n",
            "Archive:  bank-additional.zip\n",
            "replace bank-additional/.DS_Store? [y]es, [n]o, [A]ll, [N]one, [r]ename: "
          ]
        }
      ],
      "source": [
        "!wget https://archive.ics.uci.edu/ml/machine-learning-databases/00222/bank-additional.zip\n",
        "!unzip bank-additional.zip\n",
        "df = pd.read_csv('bank-additional/bank-additional-full.csv', sep=';')"
      ]
    },
    {
      "cell_type": "code",
      "execution_count": 30,
      "metadata": {
        "colab": {
          "base_uri": "https://localhost:8080/",
          "height": 226
        },
        "id": "ZyNMVryOhW7Q",
        "outputId": "d2fdcdb7-20c2-494f-9af3-b7248eb9e94a"
      },
      "outputs": [
        {
          "data": {
            "text/html": [
              "\n",
              "  <div id=\"df-6e0abcea-09f8-4bef-bc9c-7bce0a7c9773\" class=\"colab-df-container\">\n",
              "    <div>\n",
              "<style scoped>\n",
              "    .dataframe tbody tr th:only-of-type {\n",
              "        vertical-align: middle;\n",
              "    }\n",
              "\n",
              "    .dataframe tbody tr th {\n",
              "        vertical-align: top;\n",
              "    }\n",
              "\n",
              "    .dataframe thead th {\n",
              "        text-align: right;\n",
              "    }\n",
              "</style>\n",
              "<table border=\"1\" class=\"dataframe\">\n",
              "  <thead>\n",
              "    <tr style=\"text-align: right;\">\n",
              "      <th></th>\n",
              "      <th>age</th>\n",
              "      <th>job</th>\n",
              "      <th>marital</th>\n",
              "      <th>education</th>\n",
              "      <th>default</th>\n",
              "      <th>housing</th>\n",
              "      <th>loan</th>\n",
              "      <th>contact</th>\n",
              "      <th>month</th>\n",
              "      <th>day_of_week</th>\n",
              "      <th>duration</th>\n",
              "      <th>campaign</th>\n",
              "      <th>pdays</th>\n",
              "      <th>previous</th>\n",
              "      <th>poutcome</th>\n",
              "      <th>emp.var.rate</th>\n",
              "      <th>cons.price.idx</th>\n",
              "      <th>cons.conf.idx</th>\n",
              "      <th>euribor3m</th>\n",
              "      <th>nr.employed</th>\n",
              "      <th>y</th>\n",
              "    </tr>\n",
              "  </thead>\n",
              "  <tbody>\n",
              "    <tr>\n",
              "      <th>0</th>\n",
              "      <td>56</td>\n",
              "      <td>housemaid</td>\n",
              "      <td>married</td>\n",
              "      <td>basic.4y</td>\n",
              "      <td>no</td>\n",
              "      <td>no</td>\n",
              "      <td>no</td>\n",
              "      <td>telephone</td>\n",
              "      <td>may</td>\n",
              "      <td>mon</td>\n",
              "      <td>261</td>\n",
              "      <td>1</td>\n",
              "      <td>999</td>\n",
              "      <td>0</td>\n",
              "      <td>nonexistent</td>\n",
              "      <td>1.1</td>\n",
              "      <td>93.994</td>\n",
              "      <td>-36.4</td>\n",
              "      <td>4.857</td>\n",
              "      <td>5191.0</td>\n",
              "      <td>no</td>\n",
              "    </tr>\n",
              "    <tr>\n",
              "      <th>1</th>\n",
              "      <td>57</td>\n",
              "      <td>services</td>\n",
              "      <td>married</td>\n",
              "      <td>high.school</td>\n",
              "      <td>unknown</td>\n",
              "      <td>no</td>\n",
              "      <td>no</td>\n",
              "      <td>telephone</td>\n",
              "      <td>may</td>\n",
              "      <td>mon</td>\n",
              "      <td>149</td>\n",
              "      <td>1</td>\n",
              "      <td>999</td>\n",
              "      <td>0</td>\n",
              "      <td>nonexistent</td>\n",
              "      <td>1.1</td>\n",
              "      <td>93.994</td>\n",
              "      <td>-36.4</td>\n",
              "      <td>4.857</td>\n",
              "      <td>5191.0</td>\n",
              "      <td>no</td>\n",
              "    </tr>\n",
              "    <tr>\n",
              "      <th>2</th>\n",
              "      <td>37</td>\n",
              "      <td>services</td>\n",
              "      <td>married</td>\n",
              "      <td>high.school</td>\n",
              "      <td>no</td>\n",
              "      <td>yes</td>\n",
              "      <td>no</td>\n",
              "      <td>telephone</td>\n",
              "      <td>may</td>\n",
              "      <td>mon</td>\n",
              "      <td>226</td>\n",
              "      <td>1</td>\n",
              "      <td>999</td>\n",
              "      <td>0</td>\n",
              "      <td>nonexistent</td>\n",
              "      <td>1.1</td>\n",
              "      <td>93.994</td>\n",
              "      <td>-36.4</td>\n",
              "      <td>4.857</td>\n",
              "      <td>5191.0</td>\n",
              "      <td>no</td>\n",
              "    </tr>\n",
              "    <tr>\n",
              "      <th>3</th>\n",
              "      <td>40</td>\n",
              "      <td>admin.</td>\n",
              "      <td>married</td>\n",
              "      <td>basic.6y</td>\n",
              "      <td>no</td>\n",
              "      <td>no</td>\n",
              "      <td>no</td>\n",
              "      <td>telephone</td>\n",
              "      <td>may</td>\n",
              "      <td>mon</td>\n",
              "      <td>151</td>\n",
              "      <td>1</td>\n",
              "      <td>999</td>\n",
              "      <td>0</td>\n",
              "      <td>nonexistent</td>\n",
              "      <td>1.1</td>\n",
              "      <td>93.994</td>\n",
              "      <td>-36.4</td>\n",
              "      <td>4.857</td>\n",
              "      <td>5191.0</td>\n",
              "      <td>no</td>\n",
              "    </tr>\n",
              "    <tr>\n",
              "      <th>4</th>\n",
              "      <td>56</td>\n",
              "      <td>services</td>\n",
              "      <td>married</td>\n",
              "      <td>high.school</td>\n",
              "      <td>no</td>\n",
              "      <td>no</td>\n",
              "      <td>yes</td>\n",
              "      <td>telephone</td>\n",
              "      <td>may</td>\n",
              "      <td>mon</td>\n",
              "      <td>307</td>\n",
              "      <td>1</td>\n",
              "      <td>999</td>\n",
              "      <td>0</td>\n",
              "      <td>nonexistent</td>\n",
              "      <td>1.1</td>\n",
              "      <td>93.994</td>\n",
              "      <td>-36.4</td>\n",
              "      <td>4.857</td>\n",
              "      <td>5191.0</td>\n",
              "      <td>no</td>\n",
              "    </tr>\n",
              "  </tbody>\n",
              "</table>\n",
              "</div>\n",
              "    <div class=\"colab-df-buttons\">\n",
              "\n",
              "  <div class=\"colab-df-container\">\n",
              "    <button class=\"colab-df-convert\" onclick=\"convertToInteractive('df-6e0abcea-09f8-4bef-bc9c-7bce0a7c9773')\"\n",
              "            title=\"Convert this dataframe to an interactive table.\"\n",
              "            style=\"display:none;\">\n",
              "\n",
              "  <svg xmlns=\"http://www.w3.org/2000/svg\" height=\"24px\" viewBox=\"0 -960 960 960\">\n",
              "    <path d=\"M120-120v-720h720v720H120Zm60-500h600v-160H180v160Zm220 220h160v-160H400v160Zm0 220h160v-160H400v160ZM180-400h160v-160H180v160Zm440 0h160v-160H620v160ZM180-180h160v-160H180v160Zm440 0h160v-160H620v160Z\"/>\n",
              "  </svg>\n",
              "    </button>\n",
              "\n",
              "  <style>\n",
              "    .colab-df-container {\n",
              "      display:flex;\n",
              "      gap: 12px;\n",
              "    }\n",
              "\n",
              "    .colab-df-convert {\n",
              "      background-color: #E8F0FE;\n",
              "      border: none;\n",
              "      border-radius: 50%;\n",
              "      cursor: pointer;\n",
              "      display: none;\n",
              "      fill: #1967D2;\n",
              "      height: 32px;\n",
              "      padding: 0 0 0 0;\n",
              "      width: 32px;\n",
              "    }\n",
              "\n",
              "    .colab-df-convert:hover {\n",
              "      background-color: #E2EBFA;\n",
              "      box-shadow: 0px 1px 2px rgba(60, 64, 67, 0.3), 0px 1px 3px 1px rgba(60, 64, 67, 0.15);\n",
              "      fill: #174EA6;\n",
              "    }\n",
              "\n",
              "    .colab-df-buttons div {\n",
              "      margin-bottom: 4px;\n",
              "    }\n",
              "\n",
              "    [theme=dark] .colab-df-convert {\n",
              "      background-color: #3B4455;\n",
              "      fill: #D2E3FC;\n",
              "    }\n",
              "\n",
              "    [theme=dark] .colab-df-convert:hover {\n",
              "      background-color: #434B5C;\n",
              "      box-shadow: 0px 1px 3px 1px rgba(0, 0, 0, 0.15);\n",
              "      filter: drop-shadow(0px 1px 2px rgba(0, 0, 0, 0.3));\n",
              "      fill: #FFFFFF;\n",
              "    }\n",
              "  </style>\n",
              "\n",
              "    <script>\n",
              "      const buttonEl =\n",
              "        document.querySelector('#df-6e0abcea-09f8-4bef-bc9c-7bce0a7c9773 button.colab-df-convert');\n",
              "      buttonEl.style.display =\n",
              "        google.colab.kernel.accessAllowed ? 'block' : 'none';\n",
              "\n",
              "      async function convertToInteractive(key) {\n",
              "        const element = document.querySelector('#df-6e0abcea-09f8-4bef-bc9c-7bce0a7c9773');\n",
              "        const dataTable =\n",
              "          await google.colab.kernel.invokeFunction('convertToInteractive',\n",
              "                                                    [key], {});\n",
              "        if (!dataTable) return;\n",
              "\n",
              "        const docLinkHtml = 'Like what you see? Visit the ' +\n",
              "          '<a target=\"_blank\" href=https://colab.research.google.com/notebooks/data_table.ipynb>data table notebook</a>'\n",
              "          + ' to learn more about interactive tables.';\n",
              "        element.innerHTML = '';\n",
              "        dataTable['output_type'] = 'display_data';\n",
              "        await google.colab.output.renderOutput(dataTable, element);\n",
              "        const docLink = document.createElement('div');\n",
              "        docLink.innerHTML = docLinkHtml;\n",
              "        element.appendChild(docLink);\n",
              "      }\n",
              "    </script>\n",
              "  </div>\n",
              "\n",
              "\n",
              "<div id=\"df-31da7132-49f5-4066-a38c-88169b4bb442\">\n",
              "  <button class=\"colab-df-quickchart\" onclick=\"quickchart('df-31da7132-49f5-4066-a38c-88169b4bb442')\"\n",
              "            title=\"Suggest charts\"\n",
              "            style=\"display:none;\">\n",
              "\n",
              "<svg xmlns=\"http://www.w3.org/2000/svg\" height=\"24px\"viewBox=\"0 0 24 24\"\n",
              "     width=\"24px\">\n",
              "    <g>\n",
              "        <path d=\"M19 3H5c-1.1 0-2 .9-2 2v14c0 1.1.9 2 2 2h14c1.1 0 2-.9 2-2V5c0-1.1-.9-2-2-2zM9 17H7v-7h2v7zm4 0h-2V7h2v10zm4 0h-2v-4h2v4z\"/>\n",
              "    </g>\n",
              "</svg>\n",
              "  </button>\n",
              "\n",
              "<style>\n",
              "  .colab-df-quickchart {\n",
              "      --bg-color: #E8F0FE;\n",
              "      --fill-color: #1967D2;\n",
              "      --hover-bg-color: #E2EBFA;\n",
              "      --hover-fill-color: #174EA6;\n",
              "      --disabled-fill-color: #AAA;\n",
              "      --disabled-bg-color: #DDD;\n",
              "  }\n",
              "\n",
              "  [theme=dark] .colab-df-quickchart {\n",
              "      --bg-color: #3B4455;\n",
              "      --fill-color: #D2E3FC;\n",
              "      --hover-bg-color: #434B5C;\n",
              "      --hover-fill-color: #FFFFFF;\n",
              "      --disabled-bg-color: #3B4455;\n",
              "      --disabled-fill-color: #666;\n",
              "  }\n",
              "\n",
              "  .colab-df-quickchart {\n",
              "    background-color: var(--bg-color);\n",
              "    border: none;\n",
              "    border-radius: 50%;\n",
              "    cursor: pointer;\n",
              "    display: none;\n",
              "    fill: var(--fill-color);\n",
              "    height: 32px;\n",
              "    padding: 0;\n",
              "    width: 32px;\n",
              "  }\n",
              "\n",
              "  .colab-df-quickchart:hover {\n",
              "    background-color: var(--hover-bg-color);\n",
              "    box-shadow: 0 1px 2px rgba(60, 64, 67, 0.3), 0 1px 3px 1px rgba(60, 64, 67, 0.15);\n",
              "    fill: var(--button-hover-fill-color);\n",
              "  }\n",
              "\n",
              "  .colab-df-quickchart-complete:disabled,\n",
              "  .colab-df-quickchart-complete:disabled:hover {\n",
              "    background-color: var(--disabled-bg-color);\n",
              "    fill: var(--disabled-fill-color);\n",
              "    box-shadow: none;\n",
              "  }\n",
              "\n",
              "  .colab-df-spinner {\n",
              "    border: 2px solid var(--fill-color);\n",
              "    border-color: transparent;\n",
              "    border-bottom-color: var(--fill-color);\n",
              "    animation:\n",
              "      spin 1s steps(1) infinite;\n",
              "  }\n",
              "\n",
              "  @keyframes spin {\n",
              "    0% {\n",
              "      border-color: transparent;\n",
              "      border-bottom-color: var(--fill-color);\n",
              "      border-left-color: var(--fill-color);\n",
              "    }\n",
              "    20% {\n",
              "      border-color: transparent;\n",
              "      border-left-color: var(--fill-color);\n",
              "      border-top-color: var(--fill-color);\n",
              "    }\n",
              "    30% {\n",
              "      border-color: transparent;\n",
              "      border-left-color: var(--fill-color);\n",
              "      border-top-color: var(--fill-color);\n",
              "      border-right-color: var(--fill-color);\n",
              "    }\n",
              "    40% {\n",
              "      border-color: transparent;\n",
              "      border-right-color: var(--fill-color);\n",
              "      border-top-color: var(--fill-color);\n",
              "    }\n",
              "    60% {\n",
              "      border-color: transparent;\n",
              "      border-right-color: var(--fill-color);\n",
              "    }\n",
              "    80% {\n",
              "      border-color: transparent;\n",
              "      border-right-color: var(--fill-color);\n",
              "      border-bottom-color: var(--fill-color);\n",
              "    }\n",
              "    90% {\n",
              "      border-color: transparent;\n",
              "      border-bottom-color: var(--fill-color);\n",
              "    }\n",
              "  }\n",
              "</style>\n",
              "\n",
              "  <script>\n",
              "    async function quickchart(key) {\n",
              "      const quickchartButtonEl =\n",
              "        document.querySelector('#' + key + ' button');\n",
              "      quickchartButtonEl.disabled = true;  // To prevent multiple clicks.\n",
              "      quickchartButtonEl.classList.add('colab-df-spinner');\n",
              "      try {\n",
              "        const charts = await google.colab.kernel.invokeFunction(\n",
              "            'suggestCharts', [key], {});\n",
              "      } catch (error) {\n",
              "        console.error('Error during call to suggestCharts:', error);\n",
              "      }\n",
              "      quickchartButtonEl.classList.remove('colab-df-spinner');\n",
              "      quickchartButtonEl.classList.add('colab-df-quickchart-complete');\n",
              "    }\n",
              "    (() => {\n",
              "      let quickchartButtonEl =\n",
              "        document.querySelector('#df-31da7132-49f5-4066-a38c-88169b4bb442 button');\n",
              "      quickchartButtonEl.style.display =\n",
              "        google.colab.kernel.accessAllowed ? 'block' : 'none';\n",
              "    })();\n",
              "  </script>\n",
              "</div>\n",
              "    </div>\n",
              "  </div>\n"
            ],
            "text/plain": [
              "   age        job  marital    education  default housing loan    contact  \\\n",
              "0   56  housemaid  married     basic.4y       no      no   no  telephone   \n",
              "1   57   services  married  high.school  unknown      no   no  telephone   \n",
              "2   37   services  married  high.school       no     yes   no  telephone   \n",
              "3   40     admin.  married     basic.6y       no      no   no  telephone   \n",
              "4   56   services  married  high.school       no      no  yes  telephone   \n",
              "\n",
              "  month day_of_week  duration  campaign  pdays  previous     poutcome  \\\n",
              "0   may         mon       261         1    999         0  nonexistent   \n",
              "1   may         mon       149         1    999         0  nonexistent   \n",
              "2   may         mon       226         1    999         0  nonexistent   \n",
              "3   may         mon       151         1    999         0  nonexistent   \n",
              "4   may         mon       307         1    999         0  nonexistent   \n",
              "\n",
              "   emp.var.rate  cons.price.idx  cons.conf.idx  euribor3m  nr.employed   y  \n",
              "0           1.1          93.994          -36.4      4.857       5191.0  no  \n",
              "1           1.1          93.994          -36.4      4.857       5191.0  no  \n",
              "2           1.1          93.994          -36.4      4.857       5191.0  no  \n",
              "3           1.1          93.994          -36.4      4.857       5191.0  no  \n",
              "4           1.1          93.994          -36.4      4.857       5191.0  no  "
            ]
          },
          "execution_count": 30,
          "metadata": {},
          "output_type": "execute_result"
        }
      ],
      "source": [
        "df.head()"
      ]
    },
    {
      "cell_type": "markdown",
      "metadata": {
        "id": "EmGYivC2hW7R"
      },
      "source": [
        "__Задание 1 (2 балла).__ Разделите выборку на обучающую и тестовую в соотношении 3:1. Зафиксируйте `random_state=777`, укажите значение параметра `stratify`. Один из столбцов (помимо таргета :) ) стоит сразу выкинуть из обучающей выборки. Какой? Не отказывайте себе.\n",
        "\n"
      ]
    },
    {
      "cell_type": "markdown",
      "metadata": {
        "id": "KEYBiEehPjIU"
      },
      "source": [
        "Ответ: **Уберем столбец duration, поскольку он сильно влияет на таргет, но при этом неизвестен до звонка, а после звонка значение уже известно**"
      ]
    },
    {
      "cell_type": "code",
      "execution_count": 31,
      "metadata": {
        "colab": {
          "base_uri": "https://localhost:8080/"
        },
        "id": "5UJBGhFzhW7R",
        "outputId": "ee8529a2-5e72-47a0-a35c-50f0ea0f878b"
      },
      "outputs": [
        {
          "data": {
            "text/plain": [
              "(       age            job  marital    education  default housing loan  \\\n",
              " 23424   33  self-employed  married     basic.4y       no      no   no   \n",
              " 39990   32    blue-collar  married     basic.4y       no     yes   no   \n",
              " 9340    27        student   single  high.school  unknown      no   no   \n",
              " 5365    34    blue-collar  married     basic.9y       no     yes   no   \n",
              " 2797    41     technician  married     basic.9y       no      no   no   \n",
              " \n",
              "          contact month day_of_week  campaign  pdays  previous     poutcome  \\\n",
              " 23424   cellular   aug         wed         7    999         0  nonexistent   \n",
              " 39990  telephone   jun         tue         1    999         1      failure   \n",
              " 9340   telephone   jun         fri         1    999         0  nonexistent   \n",
              " 5365   telephone   may         fri         1    999         0  nonexistent   \n",
              " 2797   telephone   may         wed         1    999         0  nonexistent   \n",
              " \n",
              "        emp.var.rate  cons.price.idx  cons.conf.idx  euribor3m  nr.employed   y  \n",
              " 23424           1.4          93.444          -36.1      4.964       5228.1  no  \n",
              " 39990          -1.7          94.055          -39.8      0.761       4991.6  no  \n",
              " 9340            1.4          94.465          -41.8      4.967       5228.1  no  \n",
              " 5365            1.1          93.994          -36.4      4.857       5191.0  no  \n",
              " 2797            1.1          93.994          -36.4      4.859       5191.0  no  ,\n",
              "        age          job   marital            education  default housing loan  \\\n",
              " 39949   69      retired  divorced  professional.course       no     yes   no   \n",
              " 21502   36       admin.   married    university.degree  unknown      no   no   \n",
              " 8188    40  blue-collar   married             basic.6y  unknown     yes   no   \n",
              " 32930   28   technician    single  professional.course       no     yes   no   \n",
              " 17981   35   management    single    university.degree       no     yes   no   \n",
              " \n",
              "          contact month day_of_week  campaign  pdays  previous     poutcome  \\\n",
              " 39949  telephone   jun         fri         5    999         0  nonexistent   \n",
              " 21502   cellular   aug         tue         3    999         0  nonexistent   \n",
              " 8188   telephone   jun         tue         1    999         0  nonexistent   \n",
              " 32930  telephone   may         mon         1    999         1      failure   \n",
              " 17981   cellular   jul         tue        23    999         0  nonexistent   \n",
              " \n",
              "        emp.var.rate  cons.price.idx  cons.conf.idx  euribor3m  nr.employed   y  \n",
              " 39949          -1.7          94.055          -39.8      0.748       4991.6  no  \n",
              " 21502           1.4          93.444          -36.1      4.963       5228.1  no  \n",
              " 8188            1.4          94.465          -41.8      4.864       5228.1  no  \n",
              " 32930          -1.8          92.893          -46.2      1.299       5099.1  no  \n",
              " 17981           1.4          93.918          -42.7      4.961       5228.1  no  )"
            ]
          },
          "execution_count": 31,
          "metadata": {},
          "output_type": "execute_result"
        }
      ],
      "source": [
        "#╰( ͡° ͜ʖ ͡° )つ──☆*:・ﾟ\n",
        "df = df.drop(columns=['duration'])\n",
        "\n",
        "train_df, test_df = train_test_split(df, test_size=0.25, random_state=777, stratify=df['y'])\n",
        "\n",
        "train_df.head(), test_df.head()"
      ]
    },
    {
      "cell_type": "markdown",
      "metadata": {
        "id": "CkJ0qDdyhW7R"
      },
      "source": [
        "Закодируйте категориальные признаки с помощью `OrdinalEncoder`. Посчитайте качество (в этом задании будем работать c `AUC-PR`) при применении логистической регрессии. Здесь и далее для реализации последовательности этих действий (обработка признаков + обучение модели) используйте пайплайны. Замерьте время, потребовавшееся на обучение модели (с учетом кодирования признаков).\n",
        "\n",
        "__Вопрос__: почему в данном задании мы выбрали метрикой именно `AUC-PR`, а не, к примеру, `AUC-ROC`?\n",
        "\n",
        "__Ваш ответ__: **AUC-PR предпочтительнее в ситуациях, когда классы в данных распределены неравномерно (т.е., когда имеет место значительный дисбаланс классов). AUC-ROC (Area Under the Receiver Operating Characteristic Curve) может давать завышенную оценку производительности модели в случае сильного дисбаланса классов, так как она более сосредоточена на истинно положительных и ложноположительных результатах, не учитывая количество фактических положительных случаев. В контексте маркетинговых данных, где часто классы могут быть неравномерно распределены (например, небольшое количество клиентов согласится на предложение), AUC-PR является более информативной метрикой.**"
      ]
    },
    {
      "cell_type": "code",
      "execution_count": 32,
      "metadata": {
        "colab": {
          "base_uri": "https://localhost:8080/"
        },
        "id": "5Da9IkMfhW7S",
        "outputId": "37897b66-e77d-4e80-e019-0360b3aa15a1"
      },
      "outputs": [
        {
          "data": {
            "text/plain": [
              "(0.4309117794036865, 0.41672358050945824)"
            ]
          },
          "execution_count": 32,
          "metadata": {},
          "output_type": "execute_result"
        }
      ],
      "source": [
        "from sklearn.preprocessing import OrdinalEncoder, LabelEncoder\n",
        "from sklearn.compose import ColumnTransformer\n",
        "from sklearn.pipeline import Pipeline\n",
        "import time\n",
        "\n",
        "# Создаем массив категориальных признаков (без таргета)\n",
        "categorical_features = [col for col in train_df.columns if train_df[col].dtype == 'object' and col != 'y']\n",
        "\n",
        "categorical_transformer = ColumnTransformer(\n",
        "    transformers=[\n",
        "        ('cat', OrdinalEncoder(), categorical_features)\n",
        "    ], remainder='passthrough')\n",
        "\n",
        "model_pipeline = Pipeline(steps=[\n",
        "    ('ordinal_encoder', categorical_transformer),\n",
        "    ('logistic_regression', LogisticRegression())\n",
        "])\n",
        "\n",
        "label_encoder = LabelEncoder()\n",
        "\n",
        "X_train = train_df.drop('y', axis=1)\n",
        "X_test = test_df.drop('y', axis=1)\n",
        "y_train = label_encoder.fit_transform(train_df['y'])\n",
        "y_test = label_encoder.transform(test_df['y'])\n",
        "\n",
        "# Тренируем модель и засекаем время\n",
        "start_time= time.time()\n",
        "model_pipeline.fit(X_train, y_train)\n",
        "training_time = time.time() - start_time\n",
        "\n",
        "# Предсказание на тестовой выборке\n",
        "y_pred_prob = model_pipeline.predict_proba(X_test)[:, 1]\n",
        "\n",
        "# AUC-PR\n",
        "precision, recall, _ = precision_recall_curve(y_test, y_pred_prob)\n",
        "auc_pr = auc(recall, precision)\n",
        "\n",
        "training_time, auc_pr"
      ]
    },
    {
      "cell_type": "markdown",
      "metadata": {
        "id": "MsXcMPx8hW7S"
      },
      "source": [
        "__Задание 2 (2 балла).__ Закодируйте все категориальные признаки с помощью one-hot-кодирования. Обучите логистическую регрессию и посмотрите, как изменилось качество модели. Измерьте время, потребовавшееся на кодирование категориальных признаков и обучение модели.\n",
        "\n"
      ]
    },
    {
      "cell_type": "code",
      "execution_count": 33,
      "metadata": {
        "colab": {
          "base_uri": "https://localhost:8080/"
        },
        "id": "YYc-6CIBhW7T",
        "outputId": "73c01aad-d9ac-454d-cd72-ba99055410c7"
      },
      "outputs": [
        {
          "data": {
            "text/plain": [
              "(0.7610275745391846, 0.4364337725071667)"
            ]
          },
          "execution_count": 33,
          "metadata": {},
          "output_type": "execute_result"
        }
      ],
      "source": [
        "#╰( ͡° ͜ʖ ͡° )つ──☆*:・ﾟ\n",
        "from sklearn.preprocessing import OneHotEncoder\n",
        "\n",
        "one_hot_transformer = ColumnTransformer(\n",
        "    transformers=[\n",
        "        ('one_hot', OneHotEncoder(), categorical_features)\n",
        "    ], remainder='passthrough')\n",
        "\n",
        "# Создаем пайплайн с OneHotEncoder и LogisticRegression\n",
        "one_hot_model_pipeline = Pipeline(steps=[\n",
        "    ('one_hot_encoder', one_hot_transformer),\n",
        "    ('logistic_regression', LogisticRegression())\n",
        "])\n",
        "\n",
        "# Тренируем модель и засекаем время\n",
        "start_time_one_hot = time.time()\n",
        "one_hot_model_pipeline.fit(X_train, y_train)\n",
        "training_time_one_hot = time.time() - start_time_one_hot\n",
        "\n",
        "y_pred_prob_one_hot = one_hot_model_pipeline.predict_proba(X_test)[:, 1]\n",
        "\n",
        "# AUC-PR\n",
        "precision_one_hot, recall_one_hot, _ = precision_recall_curve(y_test, y_pred_prob_one_hot)\n",
        "auc_pr_one_hot = auc(recall_one_hot, precision_one_hot)\n",
        "\n",
        "training_time_one_hot, auc_pr_one_hot\n",
        "# заняло больше чем original encoding, но качество выросло"
      ]
    },
    {
      "cell_type": "markdown",
      "metadata": {
        "id": "_GMxe0-RhW7T"
      },
      "source": [
        "Как можно было заменить, one-hot-кодирование может сильно увеличивать количество признаков в датасете, что сказывается на памяти, особенно, если некоторый признак имеет большое количество значений. Эту проблему решает другой способ кодирования категориальных признаков — счётчики. Основная идея в том, что нам важны не сами категории, а значения целевой переменной, которые имеют объекты этой категории. Каждый категориальный признак мы заменим средним значением целевой переменной по всем объектам этой же категории:\n",
        "$$\n",
        "g_j(x, X) = \\frac{\\sum_{i=1}^{l} [f_j(x) = f_j(x_i)][y_i = +1]}{\\sum_{i=1}^{l} [f_j(x) = f_j(x_i)]}\n",
        "$$\n",
        "\n",
        "__Задание 3 (2 балла).__ Закодируйте категориальные переменные с помощью счётчиков (ровно так, как описано выше без каких-либо хитростей). Обучите логистическую регрессию и посмотрите на качество модели на тестовом множестве. Сравните время обучения с предыдущими экспериментами (с учетом кодирования признаков). Заметили ли вы что-то интересное?"
      ]
    },
    {
      "cell_type": "code",
      "execution_count": 34,
      "metadata": {
        "colab": {
          "base_uri": "https://localhost:8080/"
        },
        "id": "08SjwjmahW7U",
        "outputId": "99313811-4cd6-4c32-bfbc-96a8a9a66963"
      },
      "outputs": [
        {
          "data": {
            "text/plain": [
              "(0.34548377990722656, 0.41745408839324294)"
            ]
          },
          "execution_count": 34,
          "metadata": {},
          "output_type": "execute_result"
        }
      ],
      "source": [
        "label_encoder = LabelEncoder()\n",
        "train_df['y_encoded'] = label_encoder.fit_transform(train_df['y'])\n",
        "test_df['y_encoded'] = label_encoder.transform(test_df['y'])\n",
        "\n",
        "# Создаем копии датафреймов\n",
        "train_df_copy = train_df.copy()\n",
        "test_df_copy = test_df.copy()\n",
        "\n",
        "# Счётчики для каждой категории на основе обучающего набора данных\n",
        "for feature in categorical_features:\n",
        "    means = train_df_copy.groupby(feature)['y_encoded'].mean()\n",
        "    train_df_copy[feature + '_mean_target'] = train_df_copy[feature].map(means)\n",
        "    test_df_copy[feature + '_mean_target'] = test_df_copy[feature].map(means)\n",
        "\n",
        "# Удаляем оригинальные категориальные признаки\n",
        "train_df_copy.drop(columns=categorical_features, inplace=True)\n",
        "test_df_copy.drop(columns=categorical_features, inplace=True)\n",
        "\n",
        "# Подготовка данных для обучения модели\n",
        "X_train_mean_target = train_df_copy.drop(['y', 'y_encoded'], axis=1)\n",
        "y_train_mean_target = train_df_copy['y_encoded']\n",
        "X_test_mean_target = test_df_copy.drop(['y', 'y_encoded'], axis=1)\n",
        "y_test_mean_target = test_df_copy['y_encoded']\n",
        "\n",
        "# Пайплайн для логистической регрессии\n",
        "mean_target_model_pipeline = Pipeline([\n",
        "    ('logistic_regression', LogisticRegression())\n",
        "])\n",
        "\n",
        "start_time_mean_target = time.time()\n",
        "mean_target_model_pipeline.fit(X_train_mean_target, y_train_mean_target)\n",
        "training_time_mean_target = time.time() - start_time_mean_target\n",
        "\n",
        "# Предсказание и расчет AUC-PR\n",
        "y_pred_prob_mean_target = mean_target_model_pipeline.predict_proba(X_test_mean_target)[:, 1]\n",
        "precision_mean_target, recall_mean_target, _ = precision_recall_curve(y_test_mean_target, y_pred_prob_mean_target)\n",
        "auc_pr_mean_target = auc(recall_mean_target, precision_mean_target)\n",
        "\n",
        "(training_time_mean_target, auc_pr_mean_target)\n"
      ]
    },
    {
      "cell_type": "markdown",
      "metadata": {
        "id": "93rnXee0ac58"
      },
      "source": [
        "**Интересно, наверное, что счётчики предоставили сравнительно высокое качество модели при меньшем времени обучения по сравнению с one-hot-кодированием, что делает этот метод эффективным с точки зрения вычислительных ресурсов, особенно на больших датасетах с множеством категориальных признаков.**"
      ]
    },
    {
      "cell_type": "markdown",
      "metadata": {
        "id": "sPH6bxw_hW7U"
      },
      "source": [
        "Отметим, что такие признаки сами по себе являются классификаторами и, обучаясь на них, мы допускаем «утечку» целевой переменной в признаки. Это ведёт к переобучению, поэтому считать такие признаки необходимо таким образом, чтобы при вычислении счетчика для конкретного объекта его целевая метка не использовалась. Это можно делать следующими способами:\n",
        "1. Вычислять значение счётчика по всем объектам расположенным выше в датасете (например, если у нас выборка отсортирована по времени).\n",
        "2. Вычислять по фолдам, то есть делить выборку на некоторое количество частей и подсчитывать значение признаков по всем фолдам кроме текущего (как делается в кросс-валидации).\n",
        "3. Вносить шум в посчитанные признаки.\n",
        "\n",
        "__Задание 4 (2 балла).__ Реализуйте корректное вычисление счётчиков самым простым способом — добавлением шума к значениям (постарайтесь найти баланс между борьбой с переобучением и сохранением полезности признаков). Снова обучите логистическую регрессию, оцените качество. Сделайте выводы.\n",
        "Какие плюсы и минусы использования счётчиков по сравнению с one-hot-кодированием можно отметить?"
      ]
    },
    {
      "cell_type": "code",
      "execution_count": 35,
      "metadata": {
        "colab": {
          "base_uri": "https://localhost:8080/"
        },
        "id": "7xLdb3ethW7U",
        "outputId": "7bdcbc26-868f-4bdd-c336-4b14b2cd4a4c"
      },
      "outputs": [
        {
          "data": {
            "text/plain": [
              "(0.3655359745025635, 0.4173502262805444)"
            ]
          },
          "execution_count": 35,
          "metadata": {},
          "output_type": "execute_result"
        }
      ],
      "source": [
        "#╰( ͡° ͜ʖ ͡° )つ──☆*:・ﾟ\n",
        "from sklearn.model_selection import KFold\n",
        "import numpy as np\n",
        "\n",
        "# Функция для добавления шума к среднему значению целевой переменной\n",
        "def add_noise(series, noise_level):\n",
        "    return series * (1 + noise_level * np.random.randn(len(series)))\n",
        "\n",
        "# Копии датафреймов для новых признаков с шумом\n",
        "train_df_noisy = train_df.copy()\n",
        "test_df_noisy = test_df.copy()\n",
        "\n",
        "# Вычисляем средние значения с учетом шума для каждой категории\n",
        "noise_level = 0.01  # Уровень шума можно подбирать в зависимости от задачи\n",
        "for feature in categorical_features:\n",
        "    # Вычисляем среднее значение целевой переменной по категориям\n",
        "    overall_mean = train_df_noisy[feature].map(train_df_noisy.groupby(feature)['y_encoded'].mean())\n",
        "    # Добавляем шум к средним значениям\n",
        "    train_df_noisy[feature + '_mean_target'] = add_noise(overall_mean, noise_level)\n",
        "    # Маппим средние значения с шумом на тестовый набор, используя средние значения из обучающего набора\n",
        "    test_df_noisy[feature + '_mean_target'] = test_df_noisy[feature].map(train_df_noisy.groupby(feature)['y_encoded'].mean())\n",
        "\n",
        "# Удаляем оригинальные категориальные признаки\n",
        "train_df_noisy.drop(columns=categorical_features, inplace=True)\n",
        "test_df_noisy.drop(columns=categorical_features, inplace=True)\n",
        "\n",
        "# Обучение логистической регрессии на преобразованных данных\n",
        "X_train_noisy = train_df_noisy.drop(['y', 'y_encoded'], axis=1)\n",
        "y_train_noisy = train_df_noisy['y_encoded']\n",
        "X_test_noisy = test_df_noisy.drop(['y', 'y_encoded'], axis=1)\n",
        "y_test_noisy = test_df_noisy['y_encoded']\n",
        "\n",
        "# Пайплайн для логистической регрессии\n",
        "noisy_model_pipeline = Pipeline([\n",
        "    ('logistic_regression', LogisticRegression())\n",
        "])\n",
        "\n",
        "# Замер времени обучения модели\n",
        "start_time_noisy = time.time()\n",
        "noisy_model_pipeline.fit(X_train_noisy, y_train_noisy)\n",
        "training_time_noisy = time.time() - start_time_noisy\n",
        "\n",
        "# Предсказание на тестовом наборе\n",
        "y_pred_prob_noisy = noisy_model_pipeline.predict_proba(X_test_noisy)[:, 1]\n",
        "\n",
        "# Расчет AUC-PR\n",
        "precision_noisy, recall_noisy, _ = precision_recall_curve(y_test_noisy, y_pred_prob_noisy)\n",
        "auc_pr_noisy = auc(recall_noisy, precision_noisy)\n",
        "\n",
        "(training_time_noisy, auc_pr_noisy)\n",
        "\n"
      ]
    },
    {
      "cell_type": "markdown",
      "metadata": {
        "id": "QUtYeDfxfMtB"
      },
      "source": [
        "**Вывод: качество такое же, времени требуется меньше**"
      ]
    },
    {
      "cell_type": "markdown",
      "metadata": {
        "id": "wtsZzLO_hW7U"
      },
      "source": [
        "__Задание 5 (2 балла).__ В данных имеется признак «возраст клиента». Сейчас мы интерпретируем его как числовой, что в общем случае для линейной модели может быть неверной гипотезой. Тем не менее, у этого признака есть довольно много уникальных значений (сколько?), поэтому применять к нему one-hot кодирование может оказаться излишним. Попробуйте закодировать возраст с помощью счетчиков. Стало ли лучше?\n",
        "\n"
      ]
    },
    {
      "cell_type": "markdown",
      "metadata": {
        "id": "E0fE6Gisfjz3"
      },
      "source": []
    },
    {
      "cell_type": "markdown",
      "metadata": {
        "id": "QQMJxxvLflPz"
      },
      "source": [
        "**Всего 76 уникальных значений (вот код)**"
      ]
    },
    {
      "cell_type": "code",
      "execution_count": 36,
      "metadata": {
        "colab": {
          "base_uri": "https://localhost:8080/"
        },
        "id": "Jk2Qqae_hW7V",
        "outputId": "0e1bbba7-48e8-4bcb-b696-4682fe470db5"
      },
      "outputs": [
        {
          "data": {
            "text/plain": [
              "76"
            ]
          },
          "execution_count": 36,
          "metadata": {},
          "output_type": "execute_result"
        }
      ],
      "source": [
        "#╰( ͡° ͜ʖ ͡° )つ──☆*:・ﾟ\n",
        "unique_ages = train_df['age'].nunique()\n",
        "unique_ages\n"
      ]
    },
    {
      "cell_type": "code",
      "execution_count": 37,
      "metadata": {
        "colab": {
          "base_uri": "https://localhost:8080/"
        },
        "id": "4tn2xXiuf896",
        "outputId": "fb71ed6f-1351-4079-a703-448324b46509"
      },
      "outputs": [
        {
          "data": {
            "text/plain": [
              "(0.3240053653717041, 0.4173403256401724)"
            ]
          },
          "execution_count": 37,
          "metadata": {},
          "output_type": "execute_result"
        }
      ],
      "source": [
        "train_df['y_encoded'] = label_encoder.fit_transform(train_df['y'])\n",
        "test_df['y_encoded'] = label_encoder.transform(test_df['y'])\n",
        "\n",
        "# Теперь создадим новые копии датафреймов для кодирования\n",
        "train_df_copy = train_df.copy()\n",
        "test_df_copy = test_df.copy()\n",
        "\n",
        "# Счётчики с добавлением шума\n",
        "for feature in categorical_features:\n",
        "    # Добавление шума\n",
        "    mean_target = train_df_copy.groupby(feature)['y_encoded'].transform('mean')\n",
        "    train_df_copy[feature + '_mean_target'] = mean_target + np.random.normal(0, 0.01, size=mean_target.shape)\n",
        "    # Применение средних значений из обучающего набора к тестовому набору\n",
        "    test_df_copy[feature + '_mean_target'] = test_df_copy[feature].map(train_df_copy.groupby(feature)['y_encoded'].mean())\n",
        "\n",
        "# Удаление исходных категориальных признаков\n",
        "train_df_copy.drop(columns=categorical_features, inplace=True)\n",
        "test_df_copy.drop(columns=categorical_features, inplace=True)\n",
        "\n",
        "# Определение признаков и целевой переменной для обучения модели\n",
        "X_train_mean_encoded = train_df_copy.drop(['y', 'y_encoded'], axis=1)\n",
        "y_train_mean_encoded = train_df_copy['y_encoded']\n",
        "X_test_mean_encoded = test_df_copy.drop(['y', 'y_encoded'], axis=1)\n",
        "y_test_mean_encoded = test_df_copy['y_encoded']\n",
        "\n",
        "# Создание и обучение пайплайна\n",
        "mean_encoded_pipeline = Pipeline([\n",
        "    ('logistic_regression', LogisticRegression())\n",
        "])\n",
        "\n",
        "# Замер времени обучения модели\n",
        "start_time_mean_encoded = time.time()\n",
        "mean_encoded_pipeline.fit(X_train_mean_encoded, y_train_mean_encoded)\n",
        "training_time_mean_encoded = time.time() - start_time_mean_encoded\n",
        "\n",
        "# AUC-PR\n",
        "y_pred_mean_encoded = mean_encoded_pipeline.predict_proba(X_test_mean_encoded)[:, 1]\n",
        "precision_mean_encoded, recall_mean_encoded, _ = precision_recall_curve(y_test_mean_encoded, y_pred_mean_encoded)\n",
        "auc_pr_mean_encoded = auc(recall_mean_encoded, precision_mean_encoded)\n",
        "\n",
        "(training_time_mean_encoded, auc_pr_mean_encoded)\n"
      ]
    },
    {
      "cell_type": "markdown",
      "metadata": {
        "id": "s91OdbI-g_ct"
      },
      "source": [
        "**Стало быстрее, но качество упало**"
      ]
    },
    {
      "cell_type": "markdown",
      "metadata": {
        "id": "rLqp88AahW7V"
      },
      "source": [
        "Можно пойти и в обратную сторону. У нас есть признаки «месяц и день недели» для звонка. Попробуйте интерпретировать их как числовые (месяц от 0 до 12, дни недели от 0 до 4). Стало ли лучше в этот раз?\n",
        "\n",
        "***(Наверное имелось ввиду от 0 до 6 про дни недели)***"
      ]
    },
    {
      "cell_type": "code",
      "execution_count": null,
      "metadata": {
        "id": "sBsF1eO9hW7V"
      },
      "outputs": [],
      "source": [
        "#╰( ͡° ͜ʖ ͡° )つ──☆*:・ﾟ"
      ]
    },
    {
      "cell_type": "code",
      "execution_count": 38,
      "metadata": {
        "colab": {
          "base_uri": "https://localhost:8080/"
        },
        "id": "7V8OqFQkjgR5",
        "outputId": "887430a9-81c5-430b-ad0f-d1397bd1dc21"
      },
      "outputs": [
        {
          "data": {
            "text/plain": [
              "(0.41239047050476074, 0.42457516028811654)"
            ]
          },
          "execution_count": 38,
          "metadata": {},
          "output_type": "execute_result"
        }
      ],
      "source": [
        "X_train_numerical = train_df.drop(['y', 'y_encoded'], axis=1)\n",
        "y_train_numerical = train_df['y_encoded']\n",
        "X_test_numerical = test_df.drop(['y', 'y_encoded'], axis=1)\n",
        "y_test_numerical = test_df['y_encoded']\n",
        "\n",
        "categorical_features_to_remove = [col for col in X_train_numerical.columns if X_train_numerical[col].dtype == 'object']\n",
        "\n",
        "X_train_numerical_filtered = X_train_numerical.drop(categorical_features_to_remove, axis=1)\n",
        "X_test_numerical_filtered = X_test_numerical.drop(categorical_features_to_remove, axis=1)\n",
        "\n",
        "# Создание и обучение пайплайна с логистической регрессией\n",
        "numerical_pipeline_filtered = Pipeline([\n",
        "    ('logistic_regression', LogisticRegression(max_iter=1000))\n",
        "])\n",
        "\n",
        "# Замер времени обучения модели\n",
        "start_time_numerical_filtered = time.time()\n",
        "numerical_pipeline_filtered.fit(X_train_numerical_filtered, y_train_numerical)\n",
        "training_time_numerical_filtered = time.time() - start_time_numerical_filtered\n",
        "\n",
        "# Предсказание и расчет AUC-PR на тестовом наборе\n",
        "y_pred_numerical_filtered = numerical_pipeline_filtered.predict_proba(X_test_numerical_filtered)[:, 1]\n",
        "precision_numerical_filtered, recall_numerical_filtered, _ = precision_recall_curve(y_test_numerical, y_pred_numerical_filtered)\n",
        "auc_pr_numerical_filtered = auc(recall_numerical_filtered, precision_numerical_filtered)\n",
        "\n",
        "(training_time_numerical_filtered, auc_pr_numerical_filtered)"
      ]
    },
    {
      "cell_type": "markdown",
      "metadata": {
        "id": "FaO0YycfosZi"
      },
      "source": [
        "**Качество и время улучшилось - победа**"
      ]
    }
  ],
  "metadata": {
    "colab": {
      "provenance": []
    },
    "kernelspec": {
      "display_name": "Python 3",
      "language": "python",
      "name": "python3"
    },
    "language_info": {
      "codemirror_mode": {
        "name": "ipython",
        "version": 3
      },
      "file_extension": ".py",
      "mimetype": "text/x-python",
      "name": "python",
      "nbconvert_exporter": "python",
      "pygments_lexer": "ipython3",
      "version": "3.8.10"
    }
  },
  "nbformat": 4,
  "nbformat_minor": 0
}

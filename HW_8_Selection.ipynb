{
  "cells": [
    {
      "cell_type": "markdown",
      "metadata": {
        "id": "phb3JHjIxqcS"
      },
      "source": [
        "# Homework 8\n",
        "\n",
        "# Feature Selection and Dimention Reduction. PCA"
      ]
    },
    {
      "cell_type": "code",
      "execution_count": null,
      "metadata": {
        "id": "6huQRINIxqcU"
      },
      "outputs": [],
      "source": [
        "%matplotlib inline\n",
        "\n",
        "import numpy as np\n",
        "import pandas as pd\n",
        "import matplotlib.pyplot as plt"
      ]
    },
    {
      "cell_type": "markdown",
      "metadata": {
        "id": "Zx9Jvl65xqcU"
      },
      "source": [
        "# Gender Recognition by Voice\n",
        "\n",
        "This database was created to identify a voice as male or female, based upon acoustic properties of the voice and speech. The dataset consists of 3,168 recorded voice samples, collected from male and female speakers. The voice samples are pre-processed by acoustic analysis in R using the seewave and tuneR packages, with an analyzed frequency range of 0hz-280hz (human vocal range).\n",
        "\n",
        "The following acoustic properties of each voice are measured and included within the CSV:\n",
        "\n",
        "* meanfreq: mean frequency (in kHz)\n",
        "* sd: standard deviation of frequency\n",
        "* median: median frequency (in kHz)\n",
        "* Q25: first quantile (in kHz)\n",
        "* Q75: third quantile (in kHz)\n",
        "* IQR: interquantile range (in kHz)\n",
        "* skew: skewness (see note in specprop description)\n",
        "* kurt: kurtosis (see note in specprop description)\n",
        "* sp.ent: spectral entropy\n",
        "* sfm: spectral flatness\n",
        "* mode: mode frequency\n",
        "* centroid: frequency centroid (see specprop)\n",
        "* peakf: peak frequency (frequency with highest energy)\n",
        "* meanfun: average of fundamental frequency measured across acoustic signal\n",
        "* minfun: minimum fundamental frequency measured across acoustic signal\n",
        "* maxfun: maximum fundamental frequency measured across acoustic signal\n",
        "* meandom: average of dominant frequency measured across acoustic signal\n",
        "* mindom: minimum of dominant frequency measured across acoustic signal\n",
        "* maxdom: maximum of dominant frequency measured across acoustic signal\n",
        "* dfrange: range of dominant frequency measured across acoustic signal\n",
        "* modindx: modulation index. Calculated as the accumulated absolute difference between adjacent measurements of fundamental frequencies divided by the frequency range\n",
        "* label: male or female"
      ]
    },
    {
      "cell_type": "code",
      "execution_count": null,
      "metadata": {
        "id": "NxFlKBPXxqcV"
      },
      "outputs": [],
      "source": [
        "!wget -O 'voice.csv' -q 'https://www.dropbox.com/scl/fi/2gpi4tivaetc2z217d6ch/voice.csv?rlkey=xr4qslh9fmao94aiyimwcdkd2&dl=0'"
      ]
    },
    {
      "cell_type": "code",
      "execution_count": null,
      "metadata": {
        "colab": {
          "base_uri": "https://localhost:8080/",
          "height": 252
        },
        "id": "WED34txzxqcV",
        "outputId": "d082a965-52b1-45f2-963a-299785fa3347"
      },
      "outputs": [
        {
          "output_type": "stream",
          "name": "stdout",
          "text": [
            "DataFrame shape:  (3168, 21)\n"
          ]
        },
        {
          "output_type": "execute_result",
          "data": {
            "text/plain": [
              "   meanfreq        sd    median       Q25       Q75       IQR       skew  \\\n",
              "0  0.059781  0.064241  0.032027  0.015071  0.090193  0.075122  12.863462   \n",
              "1  0.066009  0.067310  0.040229  0.019414  0.092666  0.073252  22.423285   \n",
              "2  0.077316  0.083829  0.036718  0.008701  0.131908  0.123207  30.757155   \n",
              "3  0.151228  0.072111  0.158011  0.096582  0.207955  0.111374   1.232831   \n",
              "4  0.135120  0.079146  0.124656  0.078720  0.206045  0.127325   1.101174   \n",
              "\n",
              "          kurt    sp.ent       sfm  ...  centroid   meanfun    minfun  \\\n",
              "0   274.402906  0.893369  0.491918  ...  0.059781  0.084279  0.015702   \n",
              "1   634.613855  0.892193  0.513724  ...  0.066009  0.107937  0.015826   \n",
              "2  1024.927705  0.846389  0.478905  ...  0.077316  0.098706  0.015656   \n",
              "3     4.177296  0.963322  0.727232  ...  0.151228  0.088965  0.017798   \n",
              "4     4.333713  0.971955  0.783568  ...  0.135120  0.106398  0.016931   \n",
              "\n",
              "     maxfun   meandom    mindom    maxdom   dfrange   modindx  label  \n",
              "0  0.275862  0.007812  0.007812  0.007812  0.000000  0.000000   male  \n",
              "1  0.250000  0.009014  0.007812  0.054688  0.046875  0.052632   male  \n",
              "2  0.271186  0.007990  0.007812  0.015625  0.007812  0.046512   male  \n",
              "3  0.250000  0.201497  0.007812  0.562500  0.554688  0.247119   male  \n",
              "4  0.266667  0.712812  0.007812  5.484375  5.476562  0.208274   male  \n",
              "\n",
              "[5 rows x 21 columns]"
            ],
            "text/html": [
              "\n",
              "  <div id=\"df-452b14ce-f6b5-4c4c-94f3-ae086e9c846d\" class=\"colab-df-container\">\n",
              "    <div>\n",
              "<style scoped>\n",
              "    .dataframe tbody tr th:only-of-type {\n",
              "        vertical-align: middle;\n",
              "    }\n",
              "\n",
              "    .dataframe tbody tr th {\n",
              "        vertical-align: top;\n",
              "    }\n",
              "\n",
              "    .dataframe thead th {\n",
              "        text-align: right;\n",
              "    }\n",
              "</style>\n",
              "<table border=\"1\" class=\"dataframe\">\n",
              "  <thead>\n",
              "    <tr style=\"text-align: right;\">\n",
              "      <th></th>\n",
              "      <th>meanfreq</th>\n",
              "      <th>sd</th>\n",
              "      <th>median</th>\n",
              "      <th>Q25</th>\n",
              "      <th>Q75</th>\n",
              "      <th>IQR</th>\n",
              "      <th>skew</th>\n",
              "      <th>kurt</th>\n",
              "      <th>sp.ent</th>\n",
              "      <th>sfm</th>\n",
              "      <th>...</th>\n",
              "      <th>centroid</th>\n",
              "      <th>meanfun</th>\n",
              "      <th>minfun</th>\n",
              "      <th>maxfun</th>\n",
              "      <th>meandom</th>\n",
              "      <th>mindom</th>\n",
              "      <th>maxdom</th>\n",
              "      <th>dfrange</th>\n",
              "      <th>modindx</th>\n",
              "      <th>label</th>\n",
              "    </tr>\n",
              "  </thead>\n",
              "  <tbody>\n",
              "    <tr>\n",
              "      <th>0</th>\n",
              "      <td>0.059781</td>\n",
              "      <td>0.064241</td>\n",
              "      <td>0.032027</td>\n",
              "      <td>0.015071</td>\n",
              "      <td>0.090193</td>\n",
              "      <td>0.075122</td>\n",
              "      <td>12.863462</td>\n",
              "      <td>274.402906</td>\n",
              "      <td>0.893369</td>\n",
              "      <td>0.491918</td>\n",
              "      <td>...</td>\n",
              "      <td>0.059781</td>\n",
              "      <td>0.084279</td>\n",
              "      <td>0.015702</td>\n",
              "      <td>0.275862</td>\n",
              "      <td>0.007812</td>\n",
              "      <td>0.007812</td>\n",
              "      <td>0.007812</td>\n",
              "      <td>0.000000</td>\n",
              "      <td>0.000000</td>\n",
              "      <td>male</td>\n",
              "    </tr>\n",
              "    <tr>\n",
              "      <th>1</th>\n",
              "      <td>0.066009</td>\n",
              "      <td>0.067310</td>\n",
              "      <td>0.040229</td>\n",
              "      <td>0.019414</td>\n",
              "      <td>0.092666</td>\n",
              "      <td>0.073252</td>\n",
              "      <td>22.423285</td>\n",
              "      <td>634.613855</td>\n",
              "      <td>0.892193</td>\n",
              "      <td>0.513724</td>\n",
              "      <td>...</td>\n",
              "      <td>0.066009</td>\n",
              "      <td>0.107937</td>\n",
              "      <td>0.015826</td>\n",
              "      <td>0.250000</td>\n",
              "      <td>0.009014</td>\n",
              "      <td>0.007812</td>\n",
              "      <td>0.054688</td>\n",
              "      <td>0.046875</td>\n",
              "      <td>0.052632</td>\n",
              "      <td>male</td>\n",
              "    </tr>\n",
              "    <tr>\n",
              "      <th>2</th>\n",
              "      <td>0.077316</td>\n",
              "      <td>0.083829</td>\n",
              "      <td>0.036718</td>\n",
              "      <td>0.008701</td>\n",
              "      <td>0.131908</td>\n",
              "      <td>0.123207</td>\n",
              "      <td>30.757155</td>\n",
              "      <td>1024.927705</td>\n",
              "      <td>0.846389</td>\n",
              "      <td>0.478905</td>\n",
              "      <td>...</td>\n",
              "      <td>0.077316</td>\n",
              "      <td>0.098706</td>\n",
              "      <td>0.015656</td>\n",
              "      <td>0.271186</td>\n",
              "      <td>0.007990</td>\n",
              "      <td>0.007812</td>\n",
              "      <td>0.015625</td>\n",
              "      <td>0.007812</td>\n",
              "      <td>0.046512</td>\n",
              "      <td>male</td>\n",
              "    </tr>\n",
              "    <tr>\n",
              "      <th>3</th>\n",
              "      <td>0.151228</td>\n",
              "      <td>0.072111</td>\n",
              "      <td>0.158011</td>\n",
              "      <td>0.096582</td>\n",
              "      <td>0.207955</td>\n",
              "      <td>0.111374</td>\n",
              "      <td>1.232831</td>\n",
              "      <td>4.177296</td>\n",
              "      <td>0.963322</td>\n",
              "      <td>0.727232</td>\n",
              "      <td>...</td>\n",
              "      <td>0.151228</td>\n",
              "      <td>0.088965</td>\n",
              "      <td>0.017798</td>\n",
              "      <td>0.250000</td>\n",
              "      <td>0.201497</td>\n",
              "      <td>0.007812</td>\n",
              "      <td>0.562500</td>\n",
              "      <td>0.554688</td>\n",
              "      <td>0.247119</td>\n",
              "      <td>male</td>\n",
              "    </tr>\n",
              "    <tr>\n",
              "      <th>4</th>\n",
              "      <td>0.135120</td>\n",
              "      <td>0.079146</td>\n",
              "      <td>0.124656</td>\n",
              "      <td>0.078720</td>\n",
              "      <td>0.206045</td>\n",
              "      <td>0.127325</td>\n",
              "      <td>1.101174</td>\n",
              "      <td>4.333713</td>\n",
              "      <td>0.971955</td>\n",
              "      <td>0.783568</td>\n",
              "      <td>...</td>\n",
              "      <td>0.135120</td>\n",
              "      <td>0.106398</td>\n",
              "      <td>0.016931</td>\n",
              "      <td>0.266667</td>\n",
              "      <td>0.712812</td>\n",
              "      <td>0.007812</td>\n",
              "      <td>5.484375</td>\n",
              "      <td>5.476562</td>\n",
              "      <td>0.208274</td>\n",
              "      <td>male</td>\n",
              "    </tr>\n",
              "  </tbody>\n",
              "</table>\n",
              "<p>5 rows × 21 columns</p>\n",
              "</div>\n",
              "    <div class=\"colab-df-buttons\">\n",
              "\n",
              "  <div class=\"colab-df-container\">\n",
              "    <button class=\"colab-df-convert\" onclick=\"convertToInteractive('df-452b14ce-f6b5-4c4c-94f3-ae086e9c846d')\"\n",
              "            title=\"Convert this dataframe to an interactive table.\"\n",
              "            style=\"display:none;\">\n",
              "\n",
              "  <svg xmlns=\"http://www.w3.org/2000/svg\" height=\"24px\" viewBox=\"0 -960 960 960\">\n",
              "    <path d=\"M120-120v-720h720v720H120Zm60-500h600v-160H180v160Zm220 220h160v-160H400v160Zm0 220h160v-160H400v160ZM180-400h160v-160H180v160Zm440 0h160v-160H620v160ZM180-180h160v-160H180v160Zm440 0h160v-160H620v160Z\"/>\n",
              "  </svg>\n",
              "    </button>\n",
              "\n",
              "  <style>\n",
              "    .colab-df-container {\n",
              "      display:flex;\n",
              "      gap: 12px;\n",
              "    }\n",
              "\n",
              "    .colab-df-convert {\n",
              "      background-color: #E8F0FE;\n",
              "      border: none;\n",
              "      border-radius: 50%;\n",
              "      cursor: pointer;\n",
              "      display: none;\n",
              "      fill: #1967D2;\n",
              "      height: 32px;\n",
              "      padding: 0 0 0 0;\n",
              "      width: 32px;\n",
              "    }\n",
              "\n",
              "    .colab-df-convert:hover {\n",
              "      background-color: #E2EBFA;\n",
              "      box-shadow: 0px 1px 2px rgba(60, 64, 67, 0.3), 0px 1px 3px 1px rgba(60, 64, 67, 0.15);\n",
              "      fill: #174EA6;\n",
              "    }\n",
              "\n",
              "    .colab-df-buttons div {\n",
              "      margin-bottom: 4px;\n",
              "    }\n",
              "\n",
              "    [theme=dark] .colab-df-convert {\n",
              "      background-color: #3B4455;\n",
              "      fill: #D2E3FC;\n",
              "    }\n",
              "\n",
              "    [theme=dark] .colab-df-convert:hover {\n",
              "      background-color: #434B5C;\n",
              "      box-shadow: 0px 1px 3px 1px rgba(0, 0, 0, 0.15);\n",
              "      filter: drop-shadow(0px 1px 2px rgba(0, 0, 0, 0.3));\n",
              "      fill: #FFFFFF;\n",
              "    }\n",
              "  </style>\n",
              "\n",
              "    <script>\n",
              "      const buttonEl =\n",
              "        document.querySelector('#df-452b14ce-f6b5-4c4c-94f3-ae086e9c846d button.colab-df-convert');\n",
              "      buttonEl.style.display =\n",
              "        google.colab.kernel.accessAllowed ? 'block' : 'none';\n",
              "\n",
              "      async function convertToInteractive(key) {\n",
              "        const element = document.querySelector('#df-452b14ce-f6b5-4c4c-94f3-ae086e9c846d');\n",
              "        const dataTable =\n",
              "          await google.colab.kernel.invokeFunction('convertToInteractive',\n",
              "                                                    [key], {});\n",
              "        if (!dataTable) return;\n",
              "\n",
              "        const docLinkHtml = 'Like what you see? Visit the ' +\n",
              "          '<a target=\"_blank\" href=https://colab.research.google.com/notebooks/data_table.ipynb>data table notebook</a>'\n",
              "          + ' to learn more about interactive tables.';\n",
              "        element.innerHTML = '';\n",
              "        dataTable['output_type'] = 'display_data';\n",
              "        await google.colab.output.renderOutput(dataTable, element);\n",
              "        const docLink = document.createElement('div');\n",
              "        docLink.innerHTML = docLinkHtml;\n",
              "        element.appendChild(docLink);\n",
              "      }\n",
              "    </script>\n",
              "  </div>\n",
              "\n",
              "\n",
              "<div id=\"df-9a413131-99cb-4b1c-b658-aeb932b0f13a\">\n",
              "  <button class=\"colab-df-quickchart\" onclick=\"quickchart('df-9a413131-99cb-4b1c-b658-aeb932b0f13a')\"\n",
              "            title=\"Suggest charts\"\n",
              "            style=\"display:none;\">\n",
              "\n",
              "<svg xmlns=\"http://www.w3.org/2000/svg\" height=\"24px\"viewBox=\"0 0 24 24\"\n",
              "     width=\"24px\">\n",
              "    <g>\n",
              "        <path d=\"M19 3H5c-1.1 0-2 .9-2 2v14c0 1.1.9 2 2 2h14c1.1 0 2-.9 2-2V5c0-1.1-.9-2-2-2zM9 17H7v-7h2v7zm4 0h-2V7h2v10zm4 0h-2v-4h2v4z\"/>\n",
              "    </g>\n",
              "</svg>\n",
              "  </button>\n",
              "\n",
              "<style>\n",
              "  .colab-df-quickchart {\n",
              "      --bg-color: #E8F0FE;\n",
              "      --fill-color: #1967D2;\n",
              "      --hover-bg-color: #E2EBFA;\n",
              "      --hover-fill-color: #174EA6;\n",
              "      --disabled-fill-color: #AAA;\n",
              "      --disabled-bg-color: #DDD;\n",
              "  }\n",
              "\n",
              "  [theme=dark] .colab-df-quickchart {\n",
              "      --bg-color: #3B4455;\n",
              "      --fill-color: #D2E3FC;\n",
              "      --hover-bg-color: #434B5C;\n",
              "      --hover-fill-color: #FFFFFF;\n",
              "      --disabled-bg-color: #3B4455;\n",
              "      --disabled-fill-color: #666;\n",
              "  }\n",
              "\n",
              "  .colab-df-quickchart {\n",
              "    background-color: var(--bg-color);\n",
              "    border: none;\n",
              "    border-radius: 50%;\n",
              "    cursor: pointer;\n",
              "    display: none;\n",
              "    fill: var(--fill-color);\n",
              "    height: 32px;\n",
              "    padding: 0;\n",
              "    width: 32px;\n",
              "  }\n",
              "\n",
              "  .colab-df-quickchart:hover {\n",
              "    background-color: var(--hover-bg-color);\n",
              "    box-shadow: 0 1px 2px rgba(60, 64, 67, 0.3), 0 1px 3px 1px rgba(60, 64, 67, 0.15);\n",
              "    fill: var(--button-hover-fill-color);\n",
              "  }\n",
              "\n",
              "  .colab-df-quickchart-complete:disabled,\n",
              "  .colab-df-quickchart-complete:disabled:hover {\n",
              "    background-color: var(--disabled-bg-color);\n",
              "    fill: var(--disabled-fill-color);\n",
              "    box-shadow: none;\n",
              "  }\n",
              "\n",
              "  .colab-df-spinner {\n",
              "    border: 2px solid var(--fill-color);\n",
              "    border-color: transparent;\n",
              "    border-bottom-color: var(--fill-color);\n",
              "    animation:\n",
              "      spin 1s steps(1) infinite;\n",
              "  }\n",
              "\n",
              "  @keyframes spin {\n",
              "    0% {\n",
              "      border-color: transparent;\n",
              "      border-bottom-color: var(--fill-color);\n",
              "      border-left-color: var(--fill-color);\n",
              "    }\n",
              "    20% {\n",
              "      border-color: transparent;\n",
              "      border-left-color: var(--fill-color);\n",
              "      border-top-color: var(--fill-color);\n",
              "    }\n",
              "    30% {\n",
              "      border-color: transparent;\n",
              "      border-left-color: var(--fill-color);\n",
              "      border-top-color: var(--fill-color);\n",
              "      border-right-color: var(--fill-color);\n",
              "    }\n",
              "    40% {\n",
              "      border-color: transparent;\n",
              "      border-right-color: var(--fill-color);\n",
              "      border-top-color: var(--fill-color);\n",
              "    }\n",
              "    60% {\n",
              "      border-color: transparent;\n",
              "      border-right-color: var(--fill-color);\n",
              "    }\n",
              "    80% {\n",
              "      border-color: transparent;\n",
              "      border-right-color: var(--fill-color);\n",
              "      border-bottom-color: var(--fill-color);\n",
              "    }\n",
              "    90% {\n",
              "      border-color: transparent;\n",
              "      border-bottom-color: var(--fill-color);\n",
              "    }\n",
              "  }\n",
              "</style>\n",
              "\n",
              "  <script>\n",
              "    async function quickchart(key) {\n",
              "      const quickchartButtonEl =\n",
              "        document.querySelector('#' + key + ' button');\n",
              "      quickchartButtonEl.disabled = true;  // To prevent multiple clicks.\n",
              "      quickchartButtonEl.classList.add('colab-df-spinner');\n",
              "      try {\n",
              "        const charts = await google.colab.kernel.invokeFunction(\n",
              "            'suggestCharts', [key], {});\n",
              "      } catch (error) {\n",
              "        console.error('Error during call to suggestCharts:', error);\n",
              "      }\n",
              "      quickchartButtonEl.classList.remove('colab-df-spinner');\n",
              "      quickchartButtonEl.classList.add('colab-df-quickchart-complete');\n",
              "    }\n",
              "    (() => {\n",
              "      let quickchartButtonEl =\n",
              "        document.querySelector('#df-9a413131-99cb-4b1c-b658-aeb932b0f13a button');\n",
              "      quickchartButtonEl.style.display =\n",
              "        google.colab.kernel.accessAllowed ? 'block' : 'none';\n",
              "    })();\n",
              "  </script>\n",
              "</div>\n",
              "    </div>\n",
              "  </div>\n"
            ]
          },
          "metadata": {},
          "execution_count": 59
        }
      ],
      "source": [
        "# Read data sample\n",
        "data = pd.read_csv(\"voice.csv\")\n",
        "print(\"DataFrame shape: \", data.shape)\n",
        "data.head()"
      ]
    },
    {
      "cell_type": "markdown",
      "metadata": {
        "id": "8gz_-ORQxqcV"
      },
      "source": [
        "## Data Preparation\n"
      ]
    },
    {
      "cell_type": "code",
      "execution_count": null,
      "metadata": {
        "colab": {
          "base_uri": "https://localhost:8080/"
        },
        "id": "GeGGVcWLxqcV",
        "outputId": "c1fcf9c5-8504-4f0b-dc81-cb26c23e0eb6"
      },
      "outputs": [
        {
          "output_type": "stream",
          "name": "stdout",
          "text": [
            "Feature names:  Index(['meanfreq', 'sd', 'median', 'Q25', 'Q75', 'IQR', 'skew', 'kurt',\n",
            "       'sp.ent', 'sfm', 'mode', 'centroid', 'meanfun', 'minfun', 'maxfun',\n",
            "       'meandom', 'mindom', 'maxdom', 'dfrange', 'modindx'],\n",
            "      dtype='object')\n"
          ]
        }
      ],
      "source": [
        "# Get feature names\n",
        "feature_names = data.columns.drop(['label'])\n",
        "print(\"Feature names: \", feature_names)"
      ]
    },
    {
      "cell_type": "code",
      "execution_count": null,
      "metadata": {
        "id": "r0_5MbFbxqcV"
      },
      "outputs": [],
      "source": [
        "# Prepare X and y\n",
        "X = data[feature_names].values\n",
        "y = 1. * (data['label'].values == 'male')"
      ]
    },
    {
      "cell_type": "markdown",
      "metadata": {
        "id": "IPjIz7hexqcV"
      },
      "source": [
        "## Train / Test Split + Standardization\n",
        "\n",
        "We perform standartization to provide you possibility to use any classifier you know without any difficulties induced by feature scales."
      ]
    },
    {
      "cell_type": "code",
      "execution_count": null,
      "metadata": {
        "id": "M_UyF1KyxqcW"
      },
      "outputs": [],
      "source": [
        "from sklearn.model_selection import train_test_split\n",
        "from sklearn.preprocessing import StandardScaler\n",
        "\n",
        "# Split data into train and test samples\n",
        "X_train, X_test, y_train, y_test = train_test_split(X, y, test_size=0.5, random_state=42)\n",
        "\n",
        "# Standardization\n",
        "ss = StandardScaler()\n",
        "ss.fit(X_train)\n",
        "\n",
        "X_train = ss.transform(X_train)\n",
        "X_test = ss.transform(X_test)"
      ]
    },
    {
      "cell_type": "markdown",
      "metadata": {
        "id": "H5773YAsxqcW"
      },
      "source": [
        "## Classifier Selection\n",
        "\n",
        "Generally, tasks below can be done with any classifier, but we ask you to provide answers with Decision Tree classifier with the following hyperparameters (don't touch this):"
      ]
    },
    {
      "cell_type": "code",
      "execution_count": null,
      "metadata": {
        "id": "uWUEWvQ3xqcW"
      },
      "outputs": [],
      "source": [
        "from sklearn.tree import DecisionTreeClassifier\n",
        "clf = DecisionTreeClassifier(criterion='gini', max_depth=5, random_state=42)"
      ]
    },
    {
      "cell_type": "markdown",
      "metadata": {
        "id": "90LU-0l2xqcW"
      },
      "source": [
        "# Task 1 (1 point)\n",
        "\n",
        "Find just **one** feature, that provides the best classification accuracy. What is the name of this feature? Save name in variable first_best_feature and go through assert\n",
        "\n",
        "Hint: in **for** loop use one feature in the sample to train the classifier. Then, calculate the classification accuracy on the test sample."
      ]
    },
    {
      "cell_type": "code",
      "execution_count": null,
      "metadata": {
        "colab": {
          "base_uri": "https://localhost:8080/",
          "height": 35
        },
        "id": "ycQwwbZqxqcW",
        "outputId": "446c3c05-40e9-47d0-8ddf-d3ab1bd3b3d0"
      },
      "outputs": [
        {
          "output_type": "execute_result",
          "data": {
            "text/plain": [
              "'meanfun'"
            ],
            "application/vnd.google.colaboratory.intrinsic+json": {
              "type": "string"
            }
          },
          "metadata": {},
          "execution_count": 64
        }
      ],
      "source": [
        "feature_names[12]"
      ]
    },
    {
      "cell_type": "code",
      "execution_count": null,
      "metadata": {
        "colab": {
          "base_uri": "https://localhost:8080/"
        },
        "id": "r5RaAq35xqcX",
        "outputId": "3cf01933-0d12-49f9-98ed-d76d07024a84"
      },
      "outputs": [
        {
          "output_type": "stream",
          "name": "stdout",
          "text": [
            "Best feature: meanfun\n"
          ]
        }
      ],
      "source": [
        "# Your code is here.\n",
        "from sklearn.metrics import accuracy_score\n",
        "\n",
        "best_accuracy = 0\n",
        "first_best_feature = None\n",
        "\n",
        "# Перебираем все признаки\n",
        "for feature in feature_names:\n",
        "    # Обучаем классификатор, используя только один признак\n",
        "    clf.fit(X_train[:, feature_names.get_loc(feature)].reshape(-1, 1), y_train)\n",
        "\n",
        "    # Вычисляем точность на тестовой выборке\n",
        "    accuracy = accuracy_score(y_test, clf.predict(X_test[:, feature_names.get_loc(feature)].reshape(-1, 1)))\n",
        "\n",
        "    if accuracy > best_accuracy:\n",
        "        best_accuracy = accuracy\n",
        "        first_best_feature = feature\n",
        "\n",
        "# Выводим название наилучшего признака\n",
        "print(\"Best feature:\", first_best_feature)\n",
        "# Best feature: meanfun"
      ]
    },
    {
      "cell_type": "code",
      "execution_count": null,
      "metadata": {
        "id": "0SNWWH-OxqcX"
      },
      "outputs": [],
      "source": [
        "assert(first_best_feature == 'meanfun')"
      ]
    },
    {
      "cell_type": "markdown",
      "metadata": {
        "id": "3DVWhrjOxqcX"
      },
      "source": [
        "# Task 2 (1 point)\n",
        "\n",
        "Now you know the first best feature of the sample. In this task you need to find the second best feature. What are the names of these features?\n",
        "\n",
        "Save answer in variables first_best_feature and second_best_feature and go through assert\n",
        "\n",
        "Hint: in **for** loop use **two** features to train the classifier. One of the two features is the found best feature from Task 1, the second feature is a new one."
      ]
    },
    {
      "cell_type": "code",
      "execution_count": null,
      "metadata": {
        "colab": {
          "base_uri": "https://localhost:8080/"
        },
        "id": "nRvzfTdMxqcX",
        "outputId": "f0c5c8c9-3dad-488c-ef83-7592a6104a05"
      },
      "outputs": [
        {
          "output_type": "stream",
          "name": "stdout",
          "text": [
            "First best feature: meanfun\n",
            "Second best feature: Q75\n"
          ]
        }
      ],
      "source": [
        "# Your code is here.\n",
        "second_best_accuracy = 0\n",
        "second_best_feature = None\n",
        "\n",
        "first_best_feature = 'meanfun'\n",
        "\n",
        "for feature in feature_names:\n",
        "    if feature != first_best_feature:\n",
        "        # Используем два признака: 'meanfun' и текущий признак\n",
        "        features_to_use = [feature_names.get_loc(first_best_feature), feature_names.get_loc(feature)]\n",
        "        clf.fit(X_train[:, features_to_use], y_train)\n",
        "\n",
        "        # Вычисление точности на тестовой выборке\n",
        "        accuracy = accuracy_score(y_test, clf.predict(X_test[:, features_to_use]))\n",
        "\n",
        "        # Обновление лучшей точности и второго признака при необходимости\n",
        "        if accuracy > second_best_accuracy:\n",
        "            second_best_accuracy = accuracy\n",
        "            second_best_feature = feature\n",
        "\n",
        "print(\"First best feature:\", first_best_feature)\n",
        "print(\"Second best feature:\", second_best_feature)\n",
        "\n",
        "#First best feature: meanfun\n",
        "#Second best feature: Q75"
      ]
    },
    {
      "cell_type": "code",
      "execution_count": null,
      "metadata": {
        "id": "q4YrR_n2xqcX"
      },
      "outputs": [],
      "source": [
        "assert(first_best_feature == 'meanfun' and second_best_feature == 'Q75')"
      ]
    },
    {
      "cell_type": "markdown",
      "metadata": {
        "id": "sY__ad-TxqcX"
      },
      "source": [
        "# Task 3 (3 points)\n",
        "\n",
        "Great! As you can guess, now your task is to find the best 3 features, the best 4 features, ...., the best 20 features :) Use the silimilar approach as in Task 2.\n",
        "\n",
        "For the each N best features calculate the classification accuracy. Plot dependency of the accuracy from N. Print list of the following pairs of values: (Name of the N-th best feature, accuracy).\n",
        "\n",
        "The output example:"
      ]
    },
    {
      "cell_type": "code",
      "execution_count": null,
      "metadata": {
        "colab": {
          "base_uri": "https://localhost:8080/",
          "height": 920
        },
        "id": "pQDl_s8FxqcX",
        "outputId": "e54fd6da-fc49-46e0-c896-7964f53c2736"
      },
      "outputs": [
        {
          "output_type": "display_data",
          "data": {
            "text/plain": [
              "<Figure size 900x600 with 1 Axes>"
            ],
            "image/png": "[encoded data removed]"
          },
          "metadata": {}
        },
        {
          "output_type": "stream",
          "name": "stdout",
          "text": [
            "        Name  Accuracy\n",
            "0    meanfun  0.934975\n",
            "1        Q75  0.960227\n",
            "2        IQR  0.970328\n",
            "3     sp.ent  0.971591\n",
            "4     minfun  0.971591\n",
            "5       mode  0.972854\n",
            "6       kurt  0.973485\n",
            "7       skew  0.972222\n",
            "8     maxfun  0.972222\n",
            "9     mindom  0.969697\n",
            "10       Q25  0.970328\n",
            "11  meanfreq  0.971591\n",
            "12        sd  0.970960\n",
            "13       sfm  0.970328\n",
            "14    median  0.972222\n",
            "15  centroid  0.971591\n",
            "16    maxdom  0.970328\n",
            "17   meandom  0.970328\n",
            "18   dfrange  0.969066\n",
            "19   modindx  0.969066\n"
          ]
        }
      ],
      "source": [
        "from sklearn.metrics import accuracy_score\n",
        "\n",
        "# Инициализируем список для хранения лучших признаков и их точностей\n",
        "n_best_features = list()\n",
        "n_best_accuracies = list()\n",
        "\n",
        "# Начинаем с лучшего признака из предыдущего задания\n",
        "current_best_features = ['meanfun']\n",
        "\n",
        "# Вычисляем точность для 1 лучшего признака\n",
        "clf.fit(X_train[:, feature_names.get_loc(current_best_features[0])].reshape(-1, 1), y_train)\n",
        "accuracy = accuracy_score(y_test, clf.predict(X_test[:, feature_names.get_loc(current_best_features[0])].reshape(-1, 1)))\n",
        "n_best_features.append(current_best_features[0])\n",
        "n_best_accuracies.append(accuracy)\n",
        "\n",
        "# Ищем лучшие признаки для N от 2 до 20\n",
        "for N in range(2, 21):\n",
        "    best_feature = None\n",
        "    best_accuracy = 0\n",
        "\n",
        "    for feature in feature_names:\n",
        "        if feature not in current_best_features:\n",
        "            # Проверяем комбинацию текущих лучших признаков с новым признаком\n",
        "            test_features = current_best_features + [feature]\n",
        "            test_features_idx = [feature_names.get_loc(f) for f in test_features]\n",
        "            clf.fit(X_train[:, test_features_idx], y_train)\n",
        "            accuracy = accuracy_score(y_test, clf.predict(X_test[:, test_features_idx]))\n",
        "\n",
        "            if accuracy > best_accuracy:\n",
        "                best_accuracy = accuracy\n",
        "                best_feature = feature\n",
        "\n",
        "    # Добавляем новый лучший признак и его точность\n",
        "    current_best_features.append(best_feature)\n",
        "    n_best_accuracies.append(best_accuracy)\n",
        "\n",
        "# Подготовка данных для отчета и построения графика\n",
        "n_best_features.extend(current_best_features[1:])  # Уже имеем 1 лучший признак\n",
        "n_best_features_idx = [feature_names.get_loc(f) for f in n_best_features]\n",
        "\n",
        "# Построение графика\n",
        "plt.figure(figsize=(9, 6))\n",
        "plt.plot(range(1, 21), n_best_accuracies, color='b', linewidth=3)\n",
        "plt.xticks(range(1, 21), size=14)\n",
        "plt.xlabel(\"N лучших признаков\", size=14)\n",
        "plt.yticks(size=14)\n",
        "plt.ylabel(\"Точность\", size=14)\n",
        "plt.grid()\n",
        "plt.show()\n",
        "\n",
        "# Формирование отчета\n",
        "report = pd.DataFrame()\n",
        "report['Name'] = n_best_features\n",
        "report['Accuracy'] = n_best_accuracies\n",
        "print(report)\n",
        "\n",
        "assert list(report['Name']) == ['meanfun', 'Q75', 'IQR', 'sp.ent', 'minfun', 'mode', 'kurt', 'skew', 'maxfun', 'mindom', 'Q25', 'meanfreq', 'sd', 'sfm', 'median', 'centroid', 'maxdom', 'meandom', 'dfrange', 'modindx']"
      ]
    },
    {
      "cell_type": "markdown",
      "metadata": {
        "id": "wuQZlIGZxqcX"
      },
      "source": [
        "# Task 4 (3 points)\n",
        "\n",
        "Well, now let's use PCA. Plot the dependency of the classification accuracy from the number of components of PCA. Vary the number of components from 1 to 20. Do you have the same accuracies for one PCA component and for the first best feature from Task 1? How do you explain it?\n",
        "\n",
        "In this task you can use PCA from sklearn\n",
        "\n",
        "The output example:"
      ]
    },
    {
      "cell_type": "markdown",
      "source": [
        "**Ответ на задание**\n",
        "\n",
        "Я думаю, можно сделать вывод о том, что точность классификации действительно зависит от числа используемых компонент PCA. С увеличением числа компонент точность сначала увеличивается значительно, а затем выходит на плато, что указывает на то, что основная доля информативности данных содержится уже в первых нескольких компонентах.\n",
        "\n",
        "Что касается сравнения точности одного компонента PCA и лучшего признака из Задания 1 ('meanfun'), то можно сказать, что они схожи, что может говорить о том, что 'meanfun' является очень значимым признаком и большая часть информации, которая позволяет различать классы, содержится именно в этом признаке. Однако точность PCA меньше чем точность первых N компонент, однако это и логично, поскольку цель PCA изначально это не достижение наибольшей accuracy.\n",
        "\n"
      ],
      "metadata": {
        "id": "W1g3vfiDS80c"
      }
    },
    {
      "cell_type": "code",
      "execution_count": null,
      "metadata": {
        "colab": {
          "base_uri": "https://localhost:8080/",
          "height": 552
        },
        "id": "n6tSUt3IxqcX",
        "outputId": "c163d174-f75e-4465-b71b-20770745cb57"
      },
      "outputs": [
        {
          "output_type": "display_data",
          "data": {
            "text/plain": [
              "<Figure size 900x600 with 1 Axes>"
            ],
            "image/png": "[encoded data removed]"
          },
          "metadata": {}
        }
      ],
      "source": [
        "from sklearn.decomposition import PCA\n",
        "\n",
        "pca_accuracies = []\n",
        "\n",
        "# Применение PCA с разным числом компонент от 1 до 20 и вычисление точности классификации\n",
        "for n_components in range(1, 21):\n",
        "    # Инициализация и применение PCA\n",
        "    pca = PCA(n_components=n_components)\n",
        "    pca.fit(X_train)\n",
        "\n",
        "    # Трансформация данных\n",
        "    X_train_pca = pca.transform(X_train)\n",
        "    X_test_pca = pca.transform(X_test)\n",
        "\n",
        "    # Обучение классификатора и вычисление точности\n",
        "    clf.fit(X_train_pca, y_train)\n",
        "    accuracy = accuracy_score(y_test, clf.predict(X_test_pca))\n",
        "    pca_accuracies.append(accuracy)\n",
        "\n",
        "# Построение графика зависимости точности от числа компонент PCA\n",
        "pca_components = np.arange(1, 21)\n",
        "plt.figure(figsize=(9, 6))\n",
        "plt.plot(pca_components, pca_accuracies, color='b', linewidth=3)\n",
        "plt.xticks(pca_components, size=14)\n",
        "plt.xlabel(\"Количество компонент PCA\", size=14)\n",
        "plt.yticks(size=14)\n",
        "plt.ylabel(\"Точность\", size=14)\n",
        "plt.grid()\n",
        "plt.show()\n"
      ]
    },
    {
      "cell_type": "markdown",
      "metadata": {
        "id": "r6BWquUbxqcY"
      },
      "source": [
        "# Task 5 (2 points)\n",
        "\n",
        "Plot explained variance and cumulative explained variance for the PCA at every number of components."
      ]
    },
    {
      "cell_type": "code",
      "execution_count": null,
      "metadata": {
        "colab": {
          "base_uri": "https://localhost:8080/",
          "height": 641
        },
        "id": "qQtRh6RpxqcY",
        "outputId": "c20655af-95ee-495f-8dbb-9fe21c4d21f0"
      },
      "outputs": [
        {
          "output_type": "display_data",
          "data": {
            "text/plain": [
              "<Figure size 1400x700 with 2 Axes>"
            ],
            "image/png": "[encoded data removed]"
          },
          "metadata": {}
        }
      ],
      "source": [
        "pca_full = PCA()\n",
        "pca_full.fit(X_train)\n",
        "\n",
        "# Calculate explained variance and cumulative explained variance\n",
        "explained_variance = pca_full.explained_variance_ratio_\n",
        "cumulative_explained_variance = np.cumsum(explained_variance)\n",
        "\n",
        "# Plotting the explained variance for each component\n",
        "plt.figure(figsize=(14, 7))\n",
        "\n",
        "# Explained variance plot\n",
        "plt.subplot(1, 2, 1)\n",
        "plt.bar(range(1, len(explained_variance) + 1), explained_variance, alpha=0.5, align='center')\n",
        "plt.ylabel('Explained variance ratio')\n",
        "plt.xlabel('Principal components')\n",
        "plt.title('Explained Variance Ratio by PCA Component')\n",
        "\n",
        "# Cumulative explained variance plot\n",
        "plt.subplot(1, 2, 2)\n",
        "plt.step(range(1, len(cumulative_explained_variance) + 1), cumulative_explained_variance, where='mid')\n",
        "plt.ylabel('Cumulative explained variance ratio')\n",
        "plt.xlabel('Number of components')\n",
        "plt.title('Cumulative Explained Variance by PCA Component')\n",
        "\n",
        "plt.show()\n"
      ]
    }
  ],
  "metadata": {
    "kernelspec": {
      "display_name": "pyoadfe",
      "language": "python",
      "name": "pyoadfe"
    },
    "language_info": {
      "codemirror_mode": {
        "name": "ipython",
        "version": 3
      },
      "file_extension": ".py",
      "mimetype": "text/x-python",
      "name": "python",
      "nbconvert_exporter": "python",
      "pygments_lexer": "ipython3",
      "version": "3.10.10"
    },
    "colab": {
      "provenance": []
    }
  },
  "nbformat": 4,
  "nbformat_minor": 0
}